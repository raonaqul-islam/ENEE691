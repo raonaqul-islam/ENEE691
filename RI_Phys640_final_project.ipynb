{
  "nbformat": 4,
  "nbformat_minor": 0,
  "metadata": {
    "colab": {
      "provenance": [],
      "authorship_tag": "ABX9TyNqnqSrBEPfVCxtkpTpV2Gf",
      "include_colab_link": true
    },
    "kernelspec": {
      "name": "python3",
      "display_name": "Python 3"
    },
    "language_info": {
      "name": "python"
    }
  },
  "cells": [
    {
      "cell_type": "markdown",
      "metadata": {
        "id": "view-in-github",
        "colab_type": "text"
      },
      "source": [
        "<a href=\"https://colab.research.google.com/github/raonaqul-islam/ENEE691/blob/main/RI_Phys640_final_project.ipynb\" target=\"_parent\"><img src=\"https://colab.research.google.com/assets/colab-badge.svg\" alt=\"Open In Colab\"/></a>"
      ]
    },
    {
      "cell_type": "markdown",
      "source": [
        "# Project title: Greenhouse Effect and Surface Albedo\n",
        "**Student name:** Raonaqul Islam \\\\\n",
        "**Student ID:** IX73851 \\\\\n",
        "**Date of submission:** 05/15/24"
      ],
      "metadata": {
        "id": "Vy7Fd4g4qT6M"
      }
    },
    {
      "cell_type": "markdown",
      "source": [
        "## Theory"
      ],
      "metadata": {
        "id": "vnedTpzgq9I6"
      }
    },
    {
      "cell_type": "markdown",
      "source": [
        "Assuming there is no atmosphere, the surface temperature on earth can be estimated by,\n",
        "\n",
        "$$T_s = \\left( \\frac{\\alpha j^*}{4\\sigma} \\right)^{1/4}$$\n",
        "\n",
        "where, $\\alpha$ is the shortwave co-albedo, $r_e$ is the radius of earth, $j^* = 1366\\;\\textrm{W/m}^2$ is the solar constant, $\\sigma$ is the Stefan-Boltzmann constant.\n",
        "\n",
        "Now, when we include the atmosphere, the surface temperature is estimated using the following expression,\n",
        "\n",
        "$$T_s = \\left( \\frac{\\alpha j^*}{(1+\\Gamma_a) \\times 2\\sigma} \\right)^{1/4}$$\n",
        "\n",
        "where, $\\Gamma_a = 0.15$ is the broadband infrared transmittance of atmosphere.\n"
      ],
      "metadata": {
        "id": "4WoKzNa0q_Vt"
      }
    },
    {
      "cell_type": "markdown",
      "source": [
        "## Surface temperature with and without atmosphere, at $\\alpha = 0.7$"
      ],
      "metadata": {
        "id": "Epe8e4QttWIW"
      }
    },
    {
      "cell_type": "code",
      "execution_count": 1,
      "metadata": {
        "id": "7w089jAKmQkA"
      },
      "outputs": [],
      "source": [
        "import numpy as np\n",
        "import matplotlib.pyplot as plt"
      ]
    },
    {
      "cell_type": "code",
      "source": [
        "def surface_temperature(alpha,jstar,Gamma,isatmosphere):\n",
        "\n",
        "  '''\n",
        "    Inputs\n",
        "      alpha : Shortwave co-albedo\n",
        "      jstar : Solar constant\n",
        "      Gamma : Broadband infrared transmittance\n",
        "      isatmosphere : If atmosphere is condered, it's value is 1. If not, then 0.\n",
        "  '''\n",
        "\n",
        "  # Stefan-Boltzmann constant\n",
        "  sigma = 5.67e-8\n",
        "\n",
        "  # Atmosphere?\n",
        "  if isatmosphere == 0:\n",
        "    Gamma = 3 # If there is no atmosphere considered, Gamma is overridden\n",
        "\n",
        "  Ts = (alpha*jstar/(1+Gamma)/2/sigma)**(1/4)\n",
        "\n",
        "  return Ts"
      ],
      "metadata": {
        "id": "F6ESnVtgtx5I"
      },
      "execution_count": 2,
      "outputs": []
    },
    {
      "cell_type": "code",
      "source": [
        "alpha = 0.7\n",
        "jstar = 1366\n",
        "\n",
        "# Without atmoshpere\n",
        "Gamma = 0 # Any value\n",
        "isatmosphere = 0 # No atmosphere\n",
        "T_wout_atm = surface_temperature(alpha,jstar,Gamma,isatmosphere)\n",
        "\n",
        "# With atmosphere\n",
        "Gamma = 0.15\n",
        "isatmosphere = 1 # There is atmosphere\n",
        "T_with_atm = surface_temperature(alpha,jstar,Gamma,isatmosphere)\n",
        "\n",
        "# Print values\n",
        "print('Temperature without atmosphere = ',T_wout_atm)\n",
        "print('Temperature with atmosphere = ',T_with_atm)"
      ],
      "metadata": {
        "colab": {
          "base_uri": "https://localhost:8080/"
        },
        "id": "sNWd5ygkyPQp",
        "outputId": "410760fe-5ce7-4dc3-885f-90f06ca54dd7"
      },
      "execution_count": 3,
      "outputs": [
        {
          "output_type": "stream",
          "name": "stdout",
          "text": [
            "Temperature without atmosphere =  214.2737268666433\n",
            "Temperature with atmosphere =  292.6236755987295\n"
          ]
        }
      ]
    },
    {
      "cell_type": "markdown",
      "source": [
        "## $\\alpha$ as a function of the surface temperature"
      ],
      "metadata": {
        "id": "koSFAtxa1VNc"
      }
    },
    {
      "cell_type": "markdown",
      "source": [
        "Let us assume that the surface planetary co-albedo is a function of the surface temperature. It will then have different values at different conditions as follows: \\\\\n",
        "\n",
        "*   Ice free earth, $\\alpha_f = 0.7$\n",
        "*   Earth covered by ice, $\\alpha_i = 0.3$\n",
        "*   In between, $\\alpha(T_s)=\\alpha_i+\\frac{1}{2}(\\alpha_f-\\alpha_i)(1+\\tanh \\kappa T_s) $, where $\\kappa = 0.1$ is a constant.\n",
        "\n"
      ],
      "metadata": {
        "id": "U7cS1dog1bH4"
      }
    },
    {
      "cell_type": "markdown",
      "source": [
        "### Ice-free earth"
      ],
      "metadata": {
        "id": "SM7N5jMTloKV"
      }
    },
    {
      "cell_type": "code",
      "source": [
        "alpha = 0.7\n",
        "jstar = 1366\n",
        "Gamma = 0.15\n",
        "isatmosphere = 1 # There is atmosphere\n",
        "Tf = surface_temperature(alpha,jstar,Gamma,isatmosphere)\n",
        "print('Temperature when earth is ice-free = ',Tf)"
      ],
      "metadata": {
        "colab": {
          "base_uri": "https://localhost:8080/"
        },
        "id": "-3XucB4KlnbA",
        "outputId": "bdb47882-11d5-470b-ecc7-f4194c1a5d43"
      },
      "execution_count": 4,
      "outputs": [
        {
          "output_type": "stream",
          "name": "stdout",
          "text": [
            "Temperature when earth is ice-free =  292.6236755987295\n"
          ]
        }
      ]
    },
    {
      "cell_type": "markdown",
      "source": [
        "### Ice-covered earth"
      ],
      "metadata": {
        "id": "CJtga0CwmKgK"
      }
    },
    {
      "cell_type": "code",
      "source": [
        "alpha = 0.3\n",
        "jstar = 1366\n",
        "Gamma = 0.15\n",
        "isatmosphere = 1 # There is atmosphere\n",
        "Ti = surface_temperature(alpha,jstar,Gamma,isatmosphere)\n",
        "print('Temperature when earth is completely covered with ice = ',Ti)"
      ],
      "metadata": {
        "colab": {
          "base_uri": "https://localhost:8080/"
        },
        "id": "c3mqiUP9mNDY",
        "outputId": "9a960647-f542-439b-e3cd-5894a97ef28d"
      },
      "execution_count": 5,
      "outputs": [
        {
          "output_type": "stream",
          "name": "stdout",
          "text": [
            "Temperature when earth is completely covered with ice =  236.76377989127923\n"
          ]
        }
      ]
    },
    {
      "cell_type": "markdown",
      "source": [
        "### Earth partially covered with ice"
      ],
      "metadata": {
        "id": "pCkTFikoE_d5"
      }
    },
    {
      "cell_type": "markdown",
      "source": [
        "For this problem, what we are going to do is, replace $\\alpha$ (which is now a function of $T_s$) into Eq. (2). That way, we should obtain an expression for $T_s$. We would like to find the root of that expression using Newton's method. This root will give us an approximate temperature of earth surface when it is partially covered with ice. And, it will have value in between 281.5 K and 348 K. Therefore, as an initial guess to our root finding approach, we shall use 320."
      ],
      "metadata": {
        "id": "ljp1TC9FGGRX"
      }
    },
    {
      "cell_type": "code",
      "source": [
        "# We import the Scipy package \"optimize\" that contains the Newton's method function\n",
        "from scipy.optimize import newton"
      ],
      "metadata": {
        "id": "RtETsIhm1aGT"
      },
      "execution_count": 6,
      "outputs": []
    },
    {
      "cell_type": "code",
      "source": [
        "def get_alpha(Ts,alpha_i=0.3,alpha_f=0.7,kappa=0.1):\n",
        "  alpha = alpha_i + 0.5*(alpha_f-alpha_i)*(1+np.tanh(kappa*(Ts-273)))\n",
        "  return alpha"
      ],
      "metadata": {
        "id": "J0tE9zTVGEuo"
      },
      "execution_count": 7,
      "outputs": []
    },
    {
      "cell_type": "markdown",
      "source": [
        "Let us first plot $\\alpha$ as a function of $T_s$."
      ],
      "metadata": {
        "id": "mEC5wVRyksim"
      }
    },
    {
      "cell_type": "code",
      "source": [
        "def straightline(co1,co2,x):\n",
        "  '''\n",
        "    Inputs:\n",
        "      co1 : Co-ordinate of the first point\n",
        "      co2 : Co-ordinate of the second point\n",
        "      x : Array in x-axis\n",
        "  '''\n",
        "  x1,x2 = co1[0],co2[0]\n",
        "  y1,y2 = co1[1],co2[1]\n",
        "  y = y1+(y1-y2)/(x1-x2)*(x-x1)\n",
        "\n",
        "  return y"
      ],
      "metadata": {
        "id": "Cntnw8w8LVfT"
      },
      "execution_count": 8,
      "outputs": []
    },
    {
      "cell_type": "code",
      "source": [
        "Ts = np.linspace(-50+273,50+273,1000)\n",
        "a = get_alpha(Ts)\n",
        "\n",
        "fig,ax = plt.subplots(figsize=(8,3))\n",
        "ax.plot(Ts,a,lw=2,c='r',ls='--',label=r'$\\alpha(T_s)=\\alpha_i+\\frac{1}{2}(\\alpha_f-\\alpha_i)(1+\\tanh \\kappa T_s)$')\n",
        "ax.plot([Ti,Tf],[0.3,0.7],lw=2,c='k',label=r'Estimated $\\alpha$')\n",
        "ax.set_xlabel(r'Surface Temperature, $T_s$ (K)')\n",
        "ax.set_ylabel(r'$\\alpha(T_s)$')\n",
        "ax.grid()\n",
        "ax.legend()"
      ],
      "metadata": {
        "colab": {
          "base_uri": "https://localhost:8080/",
          "height": 333
        },
        "id": "yyUDBtAegUed",
        "outputId": "ca80262e-eb31-482c-b5a5-f0f72e4c4362"
      },
      "execution_count": 11,
      "outputs": [
        {
          "output_type": "execute_result",
          "data": {
            "text/plain": [
              "<matplotlib.legend.Legend at 0x7e45c8492050>"
            ]
          },
          "metadata": {},
          "execution_count": 11
        },
        {
          "output_type": "display_data",
          "data": {
            "text/plain": [
              "<Figure size 800x300 with 1 Axes>"
            ],
            "image/png": "[encoded data removed]"
          },
          "metadata": {}
        }
      ]
    },
    {
      "cell_type": "markdown",
      "source": [
        "From the plot, it is observed that $\\alpha$ tends to saturate at 0.7 at temperatures larger than 400 K, and at 0.3 when the temperature is less than 150 K. The black line shows the estimated $\\alpha$ values as a linear relationship. The two lines intersect near $T_s = 235, 275,$ and $295$ K. These are the locations where we would find the roots of the problem.  "
      ],
      "metadata": {
        "id": "OqqeP1TMk29s"
      }
    },
    {
      "cell_type": "code",
      "source": [
        "def func(Ts):\n",
        "\n",
        "  '''\n",
        "    Inputs\n",
        "      alpha : Shortwave co-albedo\n",
        "      jstar : Solar constant\n",
        "      Gamma : Broadband infrared transmittance\n",
        "  '''\n",
        "\n",
        "  sigma = 5.67e-8 # Stefan-Boltzmann constant\n",
        "  jstar = 1366 # Solar constant\n",
        "  Gamma = 0.15 # Broadband infrared transmittance\n",
        "\n",
        "  alpha = get_alpha(Ts)\n",
        "  y = Ts - (alpha*jstar/(1+Gamma)/2/sigma)**(1/4)\n",
        "\n",
        "  return y"
      ],
      "metadata": {
        "id": "S186Pi84HXbE"
      },
      "execution_count": 13,
      "outputs": []
    },
    {
      "cell_type": "markdown",
      "source": [
        "As mentioned earlier, we would apply Newton's method on the problem and the initial guess values will be 235, 275, and 295."
      ],
      "metadata": {
        "id": "lHdNAvBkx63G"
      }
    },
    {
      "cell_type": "code",
      "source": [
        "# Apply Newton's method to evaluate the temperature\n",
        "Tp = newton(func,[235,275,295])\n",
        "print('Surface temperature when partially covered with ice = ',Tp)"
      ],
      "metadata": {
        "colab": {
          "base_uri": "https://localhost:8080/"
        },
        "id": "efw1Q4aJIeJD",
        "outputId": "4bdb66a2-2735-4a6b-e451-6133e6ad5d4c"
      },
      "execution_count": 14,
      "outputs": [
        {
          "output_type": "stream",
          "name": "stdout",
          "text": [
            "Surface temperature when partially covered with ice =  [236.82056299 275.59248664 291.63665575]\n"
          ]
        }
      ]
    },
    {
      "cell_type": "markdown",
      "source": [
        "The newton function in the built-in package of Scipy is giving us the roots. These are the temperatures of different ice covered condition. $T_s = 236.82 \\; \\textrm{K}$ for the condition when earth is completely covered with ice, $T_s = 275.59 \\; \\textrm{K}$ for the condition when earth is partially covered with ice, and $T_s = 291.64 \\; \\textrm{K}$ when the earth is completely covered with ice."
      ],
      "metadata": {
        "id": "uj-7d358Fz3B"
      }
    },
    {
      "cell_type": "markdown",
      "source": [
        "## Perturbation of $\\alpha$"
      ],
      "metadata": {
        "id": "SkqFzfH7m2q_"
      }
    },
    {
      "cell_type": "code",
      "source": [
        "def get_Ts(alpha,jstar,sigma,Gamma):\n",
        "  Ts = (alpha*jstar/(1+Gamma)/2/sigma)**(1/4)\n",
        "  return Ts"
      ],
      "metadata": {
        "id": "7aiKc44VwXux"
      },
      "execution_count": 15,
      "outputs": []
    },
    {
      "cell_type": "code",
      "source": [
        "def get_alpha(Ts,alpha_i=0.3,alpha_f=0.7,kappa=0.1):\n",
        "  alpha = alpha_i + 0.5*(alpha_f-alpha_i)*(1+np.tanh(kappa*(Ts-273)))\n",
        "  return alpha"
      ],
      "metadata": {
        "id": "EQoqztmgyJY1"
      },
      "execution_count": 16,
      "outputs": []
    },
    {
      "cell_type": "code",
      "source": [
        "def error_func(T_new,T_old):\n",
        "  error = np.abs(T_new-T_old)/T_old\n",
        "  return error"
      ],
      "metadata": {
        "id": "4UOB0s0KxaPl"
      },
      "execution_count": 17,
      "outputs": []
    },
    {
      "cell_type": "markdown",
      "source": [
        "### Ice free"
      ],
      "metadata": {
        "id": "1dxa-Ey2rTk-"
      }
    },
    {
      "cell_type": "markdown",
      "source": [
        "Let us reduce $\\alpha$ by 5% first. As we remember, for ice free earth, $T_s = 236.82$."
      ],
      "metadata": {
        "id": "pvDxH9Bv2qWh"
      }
    },
    {
      "cell_type": "code",
      "source": [
        "# Constants\n",
        "sigma = 5.67e-8 # Stefan-Boltzmann constant\n",
        "jstar = 1366 # Solar constant\n",
        "Gamma = 0.15 # Broadband infrared transmittance\n",
        "\n",
        "# Initializations\n",
        "Ts_init = 236.82\n",
        "alpha = get_alpha(Ts_init) # Get alpha for stable temperature\n",
        "alpha_new = 0.95*alpha # Add perturbation\n",
        "Ts_new = get_Ts(alpha_new,jstar,sigma,Gamma) # Find new surface temperature for the perturbed alpha"
      ],
      "metadata": {
        "id": "NmMCKvdxgyUP"
      },
      "execution_count": 113,
      "outputs": []
    },
    {
      "cell_type": "code",
      "source": [
        "print('No. | Temperature (K)')\n",
        "print('----+-------------------')\n",
        "Temperature1 = []\n",
        "i = 1\n",
        "while(True):\n",
        "  print(i,'  |',Ts_new)\n",
        "  alpha_old = alpha_new\n",
        "  alpha_new = get_alpha(Ts_new)\n",
        "  Ts_old = Ts_new\n",
        "  Ts_new = get_Ts(alpha_new,jstar,sigma,Gamma)\n",
        "  Temperature1.append(Ts_new)\n",
        "  if error_func(Ts_new,Ts_old)<1e-8:\n",
        "    break\n",
        "  i+=1"
      ],
      "metadata": {
        "colab": {
          "base_uri": "https://localhost:8080/"
        },
        "id": "UWONVoEbyWcd",
        "outputId": "be187a23-a3a9-41c1-b88f-e2f9a84cfaa8"
      },
      "execution_count": 114,
      "outputs": [
        {
          "output_type": "stream",
          "name": "stdout",
          "text": [
            "No. | Temperature (K)\n",
            "----+-------------------\n",
            "1   | 233.80311811816657\n",
            "2   | 236.79484977164148\n",
            "3   | 236.8202720400056\n",
            "4   | 236.82055969244513\n",
            "5   | 236.82056295558374\n"
          ]
        }
      ]
    },
    {
      "cell_type": "markdown",
      "source": [
        "Now let us increase $\\alpha$ by 5% and see what happens."
      ],
      "metadata": {
        "id": "gPrB7geZ3X4t"
      }
    },
    {
      "cell_type": "code",
      "source": [
        "# Constants\n",
        "sigma = 5.67e-8 # Stefan-Boltzmann constant\n",
        "jstar = 1366 # Solar constant\n",
        "Gamma = 0.15 # Broadband infrared transmittance\n",
        "\n",
        "# Initializations\n",
        "Ts_init = 236.82\n",
        "alpha = get_alpha(Ts_init) # Get alpha for stable temperature\n",
        "alpha_new = 1.05*alpha # Add perturbation\n",
        "Ts_new = get_Ts(alpha_new,jstar,sigma,Gamma) # Find new surface temperature for the perturbed alpha"
      ],
      "metadata": {
        "id": "1ZhyqSCe3yBg"
      },
      "execution_count": 115,
      "outputs": []
    },
    {
      "cell_type": "code",
      "source": [
        "print('No. | Temperature (K)')\n",
        "print('----+-------------------')\n",
        "Temperature2 = []\n",
        "i = 1\n",
        "while(True):\n",
        "  print(i,'  |',Ts_new)\n",
        "  alpha_old = alpha_new\n",
        "  alpha_new = get_alpha(Ts_new)\n",
        "  Ts_old = Ts_new\n",
        "  Ts_new = get_Ts(alpha_new,jstar,sigma,Gamma)\n",
        "  Temperature2.append(Ts_new)\n",
        "  if error_func(Ts_new,Ts_old)<1e-8:\n",
        "    break\n",
        "  i+=1"
      ],
      "metadata": {
        "colab": {
          "base_uri": "https://localhost:8080/"
        },
        "id": "Rs7fL6yV32BE",
        "outputId": "5a9ccd13-903d-418c-9898-28b0f284a676"
      },
      "execution_count": 116,
      "outputs": [
        {
          "output_type": "stream",
          "name": "stdout",
          "text": [
            "No. | Temperature (K)\n",
            "----+-------------------\n",
            "1   | 239.72687399487845\n",
            "2   | 236.86523848193363\n",
            "3   | 236.82107207415197\n",
            "4   | 236.82056876852246\n",
            "5   | 236.8205630585461\n"
          ]
        }
      ]
    },
    {
      "cell_type": "markdown",
      "source": [
        "In the above two cases for ice-free earth, we see the surface temperature is stable and goes back to the original temperature after some time."
      ],
      "metadata": {
        "id": "RPTyOlUx355L"
      }
    },
    {
      "cell_type": "markdown",
      "source": [
        "### Ice covered"
      ],
      "metadata": {
        "id": "gtUyrtgx4Hcj"
      }
    },
    {
      "cell_type": "markdown",
      "source": [
        "For the completely ice covered earth, we reduce $\\alpha$ by 5% first. As we remember, for ice covered earth, $T_s = 291.64$."
      ],
      "metadata": {
        "id": "AegLV_Vo4Mnj"
      }
    },
    {
      "cell_type": "code",
      "source": [
        "# Constants\n",
        "sigma = 5.67e-8 # Stefan-Boltzmann constant\n",
        "jstar = 1366 # Solar constant\n",
        "Gamma = 0.15 # Broadband infrared transmittance\n",
        "\n",
        "# Initializations\n",
        "Ts_init = 291.64\n",
        "alpha = get_alpha(Ts_init) # Get alpha for stable temperature\n",
        "alpha_new = 0.95*alpha # Add perturbation\n",
        "Ts_new = get_Ts(alpha_new,jstar,sigma,Gamma) # Find new surface temperature for the perturbed alpha"
      ],
      "metadata": {
        "id": "hbFbgfRy4edK"
      },
      "execution_count": 117,
      "outputs": []
    },
    {
      "cell_type": "code",
      "source": [
        "print('No. | Temperature (K)')\n",
        "print('----+-------------------')\n",
        "Temperature3 = []\n",
        "i = 1\n",
        "while(True):\n",
        "  print(i,'  |',Ts_new)\n",
        "  alpha_old = alpha_new\n",
        "  alpha_new = get_alpha(Ts_new)\n",
        "  Ts_old = Ts_new\n",
        "  Ts_new = get_Ts(alpha_new,jstar,sigma,Gamma)\n",
        "  Temperature3.append(Ts_new)\n",
        "  if error_func(Ts_new,Ts_old)<1e-8:\n",
        "    break\n",
        "  i+=1"
      ],
      "metadata": {
        "colab": {
          "base_uri": "https://localhost:8080/"
        },
        "id": "8x8GMABi4fy6",
        "outputId": "585fd0c7-5096-4396-8e3d-9f7b0a542713"
      },
      "execution_count": 118,
      "outputs": [
        {
          "output_type": "stream",
          "name": "stdout",
          "text": [
            "No. | Temperature (K)\n",
            "----+-------------------\n",
            "1   | 287.92141986997615\n",
            "2   | 290.5901215142373\n",
            "3   | 291.41207888126615\n",
            "4   | 291.592190411668\n",
            "5   | 291.6280037117687\n",
            "6   | 291.63497803878005\n",
            "7   | 291.63633064143744\n",
            "8   | 291.63659275524367\n",
            "9   | 291.63664354101195\n",
            "10   | 291.6366533806941\n"
          ]
        }
      ]
    },
    {
      "cell_type": "markdown",
      "source": [
        "Now we shoud increase $\\alpha$ by 5% and see the result."
      ],
      "metadata": {
        "id": "0pl_y7AY4ywI"
      }
    },
    {
      "cell_type": "code",
      "source": [
        "# Constants\n",
        "sigma = 5.67e-8 # Stefan-Boltzmann constant\n",
        "jstar = 1366 # Solar constant\n",
        "Gamma = 0.15 # Broadband infrared transmittance\n",
        "\n",
        "# Initializations\n",
        "Ts_init = 291.64\n",
        "alpha = get_alpha(Ts_init) # Get alpha for stable temperature\n",
        "alpha_new = 1.05*alpha # Add perturbation\n",
        "Ts_new = get_Ts(alpha_new,jstar,sigma,Gamma) # Find new surface temperature for the perturbed alpha"
      ],
      "metadata": {
        "id": "63-_TwIl4fwW"
      },
      "execution_count": 119,
      "outputs": []
    },
    {
      "cell_type": "code",
      "source": [
        "print('No. | Temperature (K)')\n",
        "print('----+-------------------')\n",
        "Temperature4 = []\n",
        "i = 1\n",
        "while(True):\n",
        "  print(i,'  |',Ts_new)\n",
        "  alpha_old = alpha_new\n",
        "  alpha_new = get_alpha(Ts_new)\n",
        "  Ts_old = Ts_new\n",
        "  Ts_new = get_Ts(alpha_new,jstar,sigma,Gamma)\n",
        "  Temperature4.append(Ts_new)\n",
        "  if error_func(Ts_new,Ts_old)<1e-8:\n",
        "    break\n",
        "  i+=1"
      ],
      "metadata": {
        "colab": {
          "base_uri": "https://localhost:8080/"
        },
        "id": "HZrjExwV4ftp",
        "outputId": "a5ead433-d3f2-48b0-ab80-02e9836f6d7f"
      },
      "execution_count": 120,
      "outputs": [
        {
          "output_type": "stream",
          "name": "stdout",
          "text": [
            "No. | Temperature (K)\n",
            "----+-------------------\n",
            "1   | 295.21634483382536\n",
            "2   | 292.1366720314552\n",
            "3   | 291.72900880378364\n",
            "4   | 291.6543906823227\n",
            "5   | 291.6400859814108\n",
            "6   | 291.6373201251102\n",
            "7   | 291.63678445887643\n",
            "8   | 291.63668068285864\n",
            "9   | 291.6366605768218\n",
            "10   | 291.6366566813404\n"
          ]
        }
      ]
    },
    {
      "cell_type": "markdown",
      "source": [
        "Again, even for a completely ice-covered earth, we found that the temperature of earth is stable enough. After about 10 iterations, both of them become stable after the perturbation of $\\alpha$."
      ],
      "metadata": {
        "id": "upJg2H0J5GtV"
      }
    },
    {
      "cell_type": "markdown",
      "source": [
        "### Partially covered with ice"
      ],
      "metadata": {
        "id": "GOTL08Vz6bXl"
      }
    },
    {
      "cell_type": "markdown",
      "source": [
        "For partial ice covering, first let decrease the co-albedo by 5%. In this case, the surface temperature is $T_s = 275.59$ K."
      ],
      "metadata": {
        "id": "65bM5SN26i13"
      }
    },
    {
      "cell_type": "code",
      "source": [
        "# Constants\n",
        "sigma = 5.67e-8 # Stefan-Boltzmann constant\n",
        "jstar = 1366 # Solar constant\n",
        "Gamma = 0.15 # Broadband infrared transmittance\n",
        "\n",
        "# Initializations\n",
        "Ts_init = 275.59\n",
        "alpha = get_alpha(Ts_init) # Get alpha for stable temperature\n",
        "alpha_new = 0.95*alpha # Add perturbation\n",
        "Ts_new = get_Ts(alpha_new,jstar,sigma,Gamma) # Find new surface temperature for the perturbed alpha"
      ],
      "metadata": {
        "id": "Q-gT3ZXC6bOI"
      },
      "execution_count": 121,
      "outputs": []
    },
    {
      "cell_type": "code",
      "source": [
        "print('No. | Temperature (K)')\n",
        "print('----+-------------------')\n",
        "Temperature5 = []\n",
        "i = 1\n",
        "while(True):\n",
        "  print(i,'  |',Ts_new)\n",
        "  alpha_old = alpha_new\n",
        "  alpha_new = get_alpha(Ts_new)\n",
        "  Ts_old = Ts_new\n",
        "  Ts_new = get_Ts(alpha_new,jstar,sigma,Gamma)\n",
        "  Temperature5.append(Ts_new)\n",
        "  if error_func(Ts_new,Ts_old)<1e-8:\n",
        "    break\n",
        "  i+=1"
      ],
      "metadata": {
        "colab": {
          "base_uri": "https://localhost:8080/"
        },
        "id": "NKN647KB6bLG",
        "outputId": "15df4645-9f7e-46ed-a5a8-d27cb69fee6e"
      },
      "execution_count": 122,
      "outputs": [
        {
          "output_type": "stream",
          "name": "stdout",
          "text": [
            "No. | Temperature (K)\n",
            "----+-------------------\n",
            "1   | 272.0752892315493\n",
            "2   | 266.4999755722356\n",
            "3   | 252.10862211646594\n",
            "4   | 237.94610038085514\n",
            "5   | 236.8348789339051\n",
            "6   | 236.82072563050997\n",
            "7   | 236.82056483807574\n"
          ]
        }
      ]
    },
    {
      "cell_type": "markdown",
      "source": [
        "So, we can see that if the co-albedo of partially ice covered earth is decreases by 5%, the surface temperature goes down to near the temperature of ice covered earth and becomes stable there.\n",
        "\n",
        "Now, we increase $\\alpha$ by 5% and see what happens."
      ],
      "metadata": {
        "id": "DDHGDmgK7MRb"
      }
    },
    {
      "cell_type": "code",
      "source": [
        "# Constants\n",
        "sigma = 5.67e-8 # Stefan-Boltzmann constant\n",
        "jstar = 1366 # Solar constant\n",
        "Gamma = 0.15 # Broadband infrared transmittance\n",
        "\n",
        "# Initializations\n",
        "Ts_init = 275.59\n",
        "alpha = get_alpha(Ts_init) # Get alpha for stable temperature\n",
        "alpha_new = 1.05*alpha # Add perturbation\n",
        "Ts_new = get_Ts(alpha_new,jstar,sigma,Gamma) # Find new surface temperature for the perturbed alpha"
      ],
      "metadata": {
        "id": "-JVqIpE76bH8"
      },
      "execution_count": 134,
      "outputs": []
    },
    {
      "cell_type": "code",
      "source": [
        "print('No. | Temperature (K)')\n",
        "print('----+-------------------')\n",
        "Temperature6 = []\n",
        "i = 1\n",
        "while(True):\n",
        "  print(i,'  |',Ts_new)\n",
        "  alpha_old = alpha_new\n",
        "  alpha_new = get_alpha(Ts_new)\n",
        "  Ts_old = Ts_new\n",
        "  Ts_new = get_Ts(alpha_new,jstar,sigma,Gamma)\n",
        "  Temperature6.append(Ts_new)\n",
        "  if error_func(Ts_new,Ts_old)<1e-8:\n",
        "    break\n",
        "  i+=1"
      ],
      "metadata": {
        "colab": {
          "base_uri": "https://localhost:8080/"
        },
        "id": "hleLvdE46bCT",
        "outputId": "5b24fefb-a5f3-4fd2-b03f-5c6130942388"
      },
      "execution_count": 135,
      "outputs": [
        {
          "output_type": "stream",
          "name": "stdout",
          "text": [
            "No. | Temperature (K)\n",
            "----+-------------------\n",
            "1   | 278.9687284913238\n",
            "2   | 282.37465061450496\n",
            "3   | 286.8991846952826\n",
            "4   | 290.15018922180684\n",
            "5   | 291.30340416312384\n",
            "6   | 291.56997387198794\n",
            "7   | 291.6236530028405\n",
            "8   | 291.63413334062835\n",
            "9   | 291.6361669171542\n",
            "10   | 291.63656103160196\n",
            "11   | 291.6366373945453\n",
            "12   | 291.6366521898286\n"
          ]
        }
      ]
    },
    {
      "cell_type": "markdown",
      "source": [
        "From the above solutions, we see the surface temperature goes up when $\\alpha$ is increased by 5% and becomes stable near the completely ice free earth. Now, for partially ice covered earth, we can see that a little nudge to the co-albedo results in drammatic changes to the surface temperature. This will eventually change the co-albedo as a consequence which will make it stable at either at complete ice covered earth, or an ice free earth. Therefore, the partially ice covered earth is very sensitive to perturbations and not very stable.\n",
        "\n",
        "This is very important for the stability of the weather in earth."
      ],
      "metadata": {
        "id": "WTSrd5E87jGQ"
      }
    },
    {
      "cell_type": "code",
      "source": [
        "fig,ax = plt.subplots(nrows=3,ncols=2,figsize=(10,6))\n",
        "\n",
        "ax[0,0].plot(np.arange(5),Temperature1,c='r',lw='2')\n",
        "ax[0,0].set_xlabel('Iteration')\n",
        "ax[0,0].set_ylabel('Temperature (K)')\n",
        "ax[0,0].grid(alpha=0.5)\n",
        "\n",
        "ax[0,1].plot(np.arange(5),Temperature2,c='r',lw='2')\n",
        "ax[0,1].set_xlabel('Iteration')\n",
        "ax[0,1].set_ylabel('Temperature (K)')\n",
        "ax[0,1].grid(alpha=0.5)\n",
        "\n",
        "ax[1,0].plot(np.arange(10),Temperature3,c='r',lw='2')\n",
        "ax[1,0].set_xlabel('Iteration')\n",
        "ax[1,0].set_ylabel('Temperature (K)')\n",
        "ax[1,0].grid(alpha=0.5)\n",
        "\n",
        "ax[1,1].plot(np.arange(10),Temperature4,c='r',lw='2')\n",
        "ax[1,1].set_xlabel('Iteration')\n",
        "ax[1,1].set_ylabel('Temperature (K)')\n",
        "ax[1,1].grid(alpha=0.5)\n",
        "\n",
        "ax[2,0].plot(np.arange(7),Temperature5,c='r',lw='2')\n",
        "ax[2,0].set_xlabel('Iteration')\n",
        "ax[2,0].set_ylabel('Temperature (K)')\n",
        "ax[2,0].grid(alpha=0.5)\n",
        "\n",
        "ax[2,1].plot(np.arange(12),Temperature6,c='r',lw='2')\n",
        "ax[2,1].set_xlabel('Iteration')\n",
        "ax[2,1].set_ylabel('Temperature (K)')\n",
        "ax[2,1].grid(alpha=0.5)"
      ],
      "metadata": {
        "colab": {
          "base_uri": "https://localhost:8080/",
          "height": 557
        },
        "id": "sGYSkvEwzU4X",
        "outputId": "73fe87ec-5577-47f5-de19-e03b8363e246"
      },
      "execution_count": 137,
      "outputs": [
        {
          "output_type": "display_data",
          "data": {
            "text/plain": [
              "<Figure size 1000x600 with 6 Axes>"
            ],
            "image/png": "[encoded data removed]"
          },
          "metadata": {}
        }
      ]
    },
    {
      "cell_type": "markdown",
      "source": [
        "The figure above summarizes how the surface temperatures behave in response to perturbations to $\\alpha$."
      ],
      "metadata": {
        "id": "04-KPKl7_-eJ"
      }
    }
  ]
}